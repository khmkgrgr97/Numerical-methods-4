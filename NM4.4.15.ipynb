{
 "cells": [
  {
   "cell_type": "code",
   "execution_count": 86,
   "metadata": {},
   "outputs": [],
   "source": [
    "#ЗАДАНИЕ 4.4.15\n",
    "import numpy as np\n",
    "import matplotlib.pyplot as plt"
   ]
  },
  {
   "cell_type": "code",
   "execution_count": 87,
   "metadata": {},
   "outputs": [],
   "source": [
    "#данные для системы\n",
    "def B(t):\n",
    "    return [[0.01,0.12,0.5,-0.1],[-0.1,-0.15,-0.01,-0.4],[0.15,t**2,0.3,0.2],[0,-0.1,0.25,0.1]]\n",
    "c=[3,2,1,0]"
   ]
  },
  {
   "cell_type": "code",
   "execution_count": 88,
   "metadata": {},
   "outputs": [
    {
     "data": {
      "text/plain": [
       "array([1.65, 1.29, 1.01, 0.81, 0.73, 0.73, 0.73, 0.81, 1.01, 1.29, 1.65])"
      ]
     },
     "execution_count": 88,
     "metadata": {},
     "output_type": "execute_result"
    }
   ],
   "source": [
    "norm = lambda t: np.linalg.norm(B(t),np.inf) #норма ||B||inf\n",
    "t_range = np.arange(-1, 1.2, 0.2)\n",
    "arr_norm = np.array(list(map(func, t_range)))\n",
    "arr_norm #значение нормы для разных параметров t"
   ]
  },
  {
   "cell_type": "code",
   "execution_count": 89,
   "metadata": {},
   "outputs": [
    {
     "data": {
      "image/png": "[encoded data removed]",
      "text/plain": [
       "<Figure size 432x288 with 1 Axes>"
      ]
     },
     "metadata": {
      "needs_background": "light"
     },
     "output_type": "display_data"
    }
   ],
   "source": [
    "#построим график\n",
    "plt.xlabel('Параметр t')\n",
    "plt.ylabel('Значение нормы')\n",
    "plt.plot(t_range,arr_norm, '.') #значения нормы от параметра\n",
    "plt.plot((-1,1),(1,1)) #прямая y=1, чтобы проверить, какие значения t удовлетворяют условию ||B||<1\n",
    "plt.show()"
   ]
  },
  {
   "cell_type": "code",
   "execution_count": 90,
   "metadata": {},
   "outputs": [],
   "source": [
    "#достаточное условие выполнено для t=-0.4,-0.2,0,0.2,0.4\n",
    "#наибольшее значение параметра t=0.4, ищем решение системы x=Bx+c для него\n",
    "B=np.array([[0.01,0.12,0.5,-0.1],[-0.1,-0.15,-0.01,-0.4],[0.15,0.4**2,0.3,0.2],[0,-0.1,0.25,0.1]])"
   ]
  },
  {
   "cell_type": "code",
   "execution_count": 91,
   "metadata": {},
   "outputs": [],
   "source": [
    "#Модифицированный метод Зейделя для решения системы\n",
    "\n",
    "#Получение верхней треугольной матрицы В2\n",
    "import copy\n",
    "def B2(B):\n",
    "    r=B.shape[0]\n",
    "    result = copy.copy(B)\n",
    "    for i in range(r):\n",
    "        for j in range (i+1):\n",
    "            result[i,j]=0\n",
    "    return result\n",
    "\n",
    "def zmod(B,c,x0,eps): #функция для модифицированного метода Зейделя\n",
    "    y=np.array(x0)\n",
    "    x=np.zeros(4)\n",
    "    #ε2=ε*(1-‖B‖)/‖B2‖\n",
    "    eps2=(eps*(1-np.linalg.norm(B,np.inf))/np.linalg.norm(B2(B),np.inf)) \n",
    "    while (max(abs(x-y))>eps2):\n",
    "        x=np.array(y)\n",
    "        for i in range(n):\n",
    "            u=0\n",
    "            j=0\n",
    "            while (j>=0) and (j<=i):\n",
    "                u+=B[i,j]*y[j]\n",
    "                j+=1\n",
    "            j=i+1\n",
    "            while (j>=i) and (j<n):\n",
    "                u+=B[i,j]*x[j]\n",
    "                j+=1\n",
    "            y[i]=u+c[i]\n",
    "    return y"
   ]
  },
  {
   "cell_type": "code",
   "execution_count": 92,
   "metadata": {},
   "outputs": [
    {
     "data": {
      "text/plain": [
       "array([4.52837844, 1.08849707, 2.83845508, 0.66751553])"
      ]
     },
     "execution_count": 92,
     "metadata": {},
     "output_type": "execute_result"
    }
   ],
   "source": [
    "x0=[4.0,2.0,3.0,0.0]\n",
    "z=zmod(B,c,x0,10**(-5))\n",
    "z"
   ]
  },
  {
   "cell_type": "code",
   "execution_count": null,
   "metadata": {},
   "outputs": [],
   "source": []
  }
 ],
 "metadata": {
  "kernelspec": {
   "display_name": "Python 3",
   "language": "python",
   "name": "python3"
  },
  "language_info": {
   "codemirror_mode": {
    "name": "ipython",
    "version": 3
   },
   "file_extension": ".py",
   "mimetype": "text/x-python",
   "name": "python",
   "nbconvert_exporter": "python",
   "pygments_lexer": "ipython3",
   "version": "3.7.2"
  }
 },
 "nbformat": 4,
 "nbformat_minor": 2
}
